{
 "cells": [
  {
   "cell_type": "markdown",
   "metadata": {
    "heading_collapsed": true,
    "id": "LeeVZkSwx1wt"
   },
   "source": [
    "# Liberaries"
   ]
  },
  {
   "cell_type": "code",
   "execution_count": 1,
   "metadata": {
    "colab": {
     "base_uri": "https://localhost:8080/"
    },
    "hidden": true,
    "id": "IiElz8GjxOQx",
    "outputId": "adbd0da8-4400-434e-9ce2-d403931db713"
   },
   "outputs": [
    {
     "name": "stdout",
     "output_type": "stream",
     "text": [
      "Defaulting to user installation because normal site-packages is not writeable\n",
      "Requirement already satisfied: qrcode in c:\\users\\dell\\appdata\\roaming\\python\\python39\\site-packages (7.4.2)\n",
      "Requirement already satisfied: pypng in c:\\users\\dell\\appdata\\roaming\\python\\python39\\site-packages (from qrcode) (0.20220715.0)\n",
      "Requirement already satisfied: colorama in c:\\program files\\anaconda\\lib\\site-packages (from qrcode) (0.4.4)\n",
      "Requirement already satisfied: typing-extensions in c:\\program files\\anaconda\\lib\\site-packages (from qrcode) (4.1.1)\n"
     ]
    }
   ],
   "source": [
    "# Install the Library\n",
    "!pip install qrcode"
   ]
  },
  {
   "cell_type": "code",
   "execution_count": 2,
   "metadata": {
    "hidden": true,
    "id": "Aojdoy1jxXdQ"
   },
   "outputs": [],
   "source": [
    "# Importing library\n",
    "import qrcode"
   ]
  },
  {
   "cell_type": "markdown",
   "metadata": {
    "heading_collapsed": true,
    "id": "pnyj1kiMx5ZX"
   },
   "source": [
    "# QR_CODE 1"
   ]
  },
  {
   "cell_type": "code",
   "execution_count": 3,
   "metadata": {
    "hidden": true,
    "id": "YilxW49nxfsA"
   },
   "outputs": [],
   "source": [
    "# Data to be encoded\n",
    "data = '1'"
   ]
  },
  {
   "cell_type": "code",
   "execution_count": 4,
   "metadata": {
    "hidden": true,
    "id": "2Tg7g8Ydxida"
   },
   "outputs": [],
   "source": [
    "# Encoding data using make() function\n",
    "img = qrcode.make(data)"
   ]
  },
  {
   "cell_type": "code",
   "execution_count": 5,
   "metadata": {
    "hidden": true,
    "id": "uvUUGhAAxkjL"
   },
   "outputs": [],
   "source": [
    "# Saving as an image file\n",
    "img.save('MyQRCodenumber1.png')"
   ]
  },
  {
   "cell_type": "markdown",
   "metadata": {
    "heading_collapsed": true,
    "id": "pnyj1kiMx5ZX"
   },
   "source": [
    "# QR_CODE 2"
   ]
  },
  {
   "cell_type": "code",
   "execution_count": 3,
   "metadata": {
    "hidden": true,
    "id": "YilxW49nxfsA"
   },
   "outputs": [],
   "source": [
    "# Data to be encoded\n",
    "data = '2'"
   ]
  },
  {
   "cell_type": "code",
   "execution_count": 4,
   "metadata": {
    "hidden": true,
    "id": "2Tg7g8Ydxida"
   },
   "outputs": [],
   "source": [
    "# Encoding data using make() function\n",
    "img = qrcode.make(data)"
   ]
  },
  {
   "cell_type": "code",
   "execution_count": 5,
   "metadata": {
    "hidden": true,
    "id": "uvUUGhAAxkjL"
   },
   "outputs": [],
   "source": [
    "# Saving as an image file\n",
    "img.save('MyQRCodenumber2.png')"
   ]
  }
 ],
 "metadata": {
  "colab": {
   "collapsed_sections": [
    "LeeVZkSwx1wt",
    "pnyj1kiMx5ZX",
    "ccKXTfukx-t7",
    "lIsCZatHx-1A"
   ],
   "provenance": []
  },
  "kernelspec": {
   "display_name": "Python 3 (ipykernel)",
   "language": "python",
   "name": "python3"
  },
  "language_info": {
   "codemirror_mode": {
    "name": "ipython",
    "version": 3
   },
   "file_extension": ".py",
   "mimetype": "text/x-python",
   "name": "python",
   "nbconvert_exporter": "python",
   "pygments_lexer": "ipython3",
   "version": "3.9.12"
  },
  "nbTranslate": {
   "displayLangs": [
    "*"
   ],
   "hotkey": "alt-t",
   "langInMainMenu": true,
   "sourceLang": "en",
   "targetLang": "fr",
   "useGoogleTranslate": true
  }
 },
 "nbformat": 4,
 "nbformat_minor": 1
}
