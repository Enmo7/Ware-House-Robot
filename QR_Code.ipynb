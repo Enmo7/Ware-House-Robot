{
 "cells": [
  {
   "cell_type": "markdown",
   "metadata": {
    "id": "LeeVZkSwx1wt"
   },
   "source": [
    "# Liberaries"
   ]
  },
  {
   "cell_type": "code",
   "execution_count": 1,
   "metadata": {
    "colab": {
     "base_uri": "https://localhost:8080/"
    },
    "id": "IiElz8GjxOQx",
    "outputId": "adbd0da8-4400-434e-9ce2-d403931db713"
   },
   "outputs": [
    {
     "name": "stdout",
     "output_type": "stream",
     "text": [
      "Defaulting to user installation because normal site-packages is not writeable\n",
      "Requirement already satisfied: qrcode in c:\\users\\dell\\appdata\\roaming\\python\\python39\\site-packages (7.4.2)\n",
      "Requirement already satisfied: pypng in c:\\users\\dell\\appdata\\roaming\\python\\python39\\site-packages (from qrcode) (0.20220715.0)\n",
      "Requirement already satisfied: colorama in c:\\program files\\anaconda\\lib\\site-packages (from qrcode) (0.4.4)\n",
      "Requirement already satisfied: typing-extensions in c:\\program files\\anaconda\\lib\\site-packages (from qrcode) (4.1.1)\n"
     ]
    }
   ],
   "source": [
    "# Install the Library\n",
    "!pip install qrcode"
   ]
  },
  {
   "cell_type": "code",
   "execution_count": 2,
   "metadata": {
    "id": "Aojdoy1jxXdQ"
   },
   "outputs": [],
   "source": [
    "# Importing library\n",
    "import qrcode"
   ]
  },
  {
   "cell_type": "markdown",
   "metadata": {
    "id": "pnyj1kiMx5ZX"
   },
   "source": [
    "# Example 1"
   ]
  },
  {
   "cell_type": "code",
   "execution_count": 3,
   "metadata": {
    "id": "YilxW49nxfsA"
   },
   "outputs": [],
   "source": [
    "# Data to be encoded\n",
    "data = '2'"
   ]
  },
  {
   "cell_type": "code",
   "execution_count": 4,
   "metadata": {
    "id": "2Tg7g8Ydxida"
   },
   "outputs": [],
   "source": [
    "# Encoding data using make() function\n",
    "img = qrcode.make(data)"
   ]
  },
  {
   "cell_type": "code",
   "execution_count": 5,
   "metadata": {
    "id": "uvUUGhAAxkjL"
   },
   "outputs": [],
   "source": [
    "# Saving as an image file\n",
    "img.save('MyQRCodenumber2.png')"
   ]
  },
  {
   "cell_type": "markdown",
   "metadata": {
    "id": "ccKXTfukx-t7"
   },
   "source": [
    "# Example 2"
   ]
  },
  {
   "cell_type": "code",
   "execution_count": 6,
   "metadata": {
    "id": "b7m-1g9kx-t7"
   },
   "outputs": [],
   "source": [
    "# Data to encode\n",
    "data = \"Engineering\""
   ]
  },
  {
   "cell_type": "code",
   "execution_count": 7,
   "metadata": {
    "id": "dJv7PzuXx-t8"
   },
   "outputs": [],
   "source": [
    "# Creating an instance of QRCode class\n",
    "qr = qrcode.QRCode(version = 1,\n",
    "                   box_size = 10,\n",
    "                   border = 5)"
   ]
  },
  {
   "cell_type": "code",
   "execution_count": 8,
   "metadata": {
    "id": "aDXdqFgzyP3N"
   },
   "outputs": [],
   "source": [
    "# Adding data to the instance 'qr'\n",
    "qr.add_data(data)"
   ]
  },
  {
   "cell_type": "code",
   "execution_count": 9,
   "metadata": {
    "id": "DMNZL2qtyPzz"
   },
   "outputs": [],
   "source": [
    "qr.make(fit = True)\n",
    "img = qr.make_image(fill_color = 'red',\n",
    "                    back_color = 'white')"
   ]
  },
  {
   "cell_type": "code",
   "execution_count": 10,
   "metadata": {
    "id": "AOjSie14x-t8"
   },
   "outputs": [],
   "source": [
    "# Saving as an image file\n",
    "img.save('MyQRCode2.png')"
   ]
  },
  {
   "cell_type": "markdown",
   "metadata": {
    "id": "lIsCZatHx-1A"
   },
   "source": [
    "# Example 3"
   ]
  },
  {
   "cell_type": "code",
   "execution_count": 11,
   "metadata": {
    "id": "RXRyqB18x-1A"
   },
   "outputs": [],
   "source": [
    "# Data to be encoded\n",
    "data = ['QR Code using make() function', 'jhbbxgfv', 52, 65, \"boy\"]"
   ]
  },
  {
   "cell_type": "code",
   "execution_count": 12,
   "metadata": {
    "id": "ed2pxbCwx-1A"
   },
   "outputs": [],
   "source": [
    "# Encoding data using make() function\n",
    "img = qrcode.make(data)"
   ]
  },
  {
   "cell_type": "code",
   "execution_count": 13,
   "metadata": {
    "id": "oQ0b-Gg2x-1A"
   },
   "outputs": [],
   "source": [
    "# Saving as an image file\n",
    "img.save('MyQRCode3.png')"
   ]
  }
 ],
 "metadata": {
  "colab": {
   "collapsed_sections": [
    "LeeVZkSwx1wt",
    "pnyj1kiMx5ZX",
    "ccKXTfukx-t7",
    "lIsCZatHx-1A"
   ],
   "provenance": []
  },
  "kernelspec": {
   "display_name": "Python 3 (ipykernel)",
   "language": "python",
   "name": "python3"
  },
  "language_info": {
   "codemirror_mode": {
    "name": "ipython",
    "version": 3
   },
   "file_extension": ".py",
   "mimetype": "text/x-python",
   "name": "python",
   "nbconvert_exporter": "python",
   "pygments_lexer": "ipython3",
   "version": "3.9.12"
  },
  "nbTranslate": {
   "displayLangs": [
    "*"
   ],
   "hotkey": "alt-t",
   "langInMainMenu": true,
   "sourceLang": "en",
   "targetLang": "fr",
   "useGoogleTranslate": true
  }
 },
 "nbformat": 4,
 "nbformat_minor": 1
}
