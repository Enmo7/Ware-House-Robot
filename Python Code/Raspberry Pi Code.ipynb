{
 "cells": [
  {
   "cell_type": "markdown",
   "id": "c497f707",
   "metadata": {
    "heading_collapsed": true
   },
   "source": [
    "# Liberaries"
   ]
  },
  {
   "cell_type": "code",
   "execution_count": null,
   "id": "6e07fcac",
   "metadata": {
    "hidden": true
   },
   "outputs": [],
   "source": [
    "import cv2\n",
    "from pyzbar.pyzbar import decode\n",
    "import serial\n",
    "import time"
   ]
  },
  {
   "cell_type": "markdown",
   "id": "8d74c3c0",
   "metadata": {
    "heading_collapsed": true
   },
   "source": [
    "# Connection to Arduino"
   ]
  },
  {
   "cell_type": "code",
   "execution_count": null,
   "id": "bde60ca1",
   "metadata": {
    "hidden": true
   },
   "outputs": [],
   "source": [
    "# Open serial connection to Arduino\n",
    "ser = serial.Serial('/dev/ttyACM0', 9600, timeout=1)"
   ]
  },
  {
   "cell_type": "code",
   "execution_count": null,
   "id": "7d3b9c62",
   "metadata": {
    "hidden": true
   },
   "outputs": [],
   "source": [
    "# Wait for Arduino to initialize\n",
    "time.sleep(2)"
   ]
  },
  {
   "cell_type": "code",
   "execution_count": null,
   "id": "516c4f17",
   "metadata": {
    "hidden": true
   },
   "outputs": [],
   "source": [
    "# Initialize flag variables\n",
    "num1_detected = False\n",
    "num2_detected = False"
   ]
  },
  {
   "cell_type": "markdown",
   "id": "520d7977",
   "metadata": {
    "heading_collapsed": true
   },
   "source": [
    "# Web Cam"
   ]
  },
  {
   "cell_type": "code",
   "execution_count": null,
   "id": "e7e24dfa",
   "metadata": {
    "hidden": true
   },
   "outputs": [],
   "source": [
    "# Initialize the webcam\n",
    "cap = cv2.VideoCapture(0)"
   ]
  },
  {
   "cell_type": "code",
   "execution_count": null,
   "id": "07bfa906",
   "metadata": {
    "hidden": true
   },
   "outputs": [],
   "source": [
    "while True:\n",
    "    # Capture a frame from the webcam\n",
    "    ret, frame = cap.read()\n",
    "\n",
    "    # Decode any QR codes in the frame\n",
    "    decoded_objs = decode(frame)\n",
    "\n",
    "    # Check if any QR codes have been detected\n",
    "    if decoded_objs:\n",
    "        # Loop through all detected QR codes\n",
    "        for obj in decoded_objs:\n",
    "            # Get the data from the QR code\n",
    "            smart = obj.data.decode('utf-8')\n",
    "            print('smart : ', smart)\n",
    "\n",
    "            # Check if the QR code data is '1' and it has not been detected before\n",
    "            if smart == '1' and not num1_detected:\n",
    "                # Send '1' to turn on LED 1\n",
    "                ser.write(b'1')\n",
    "                # Set the flag variable to True\n",
    "                num1_detected = True\n",
    "\n",
    "            # Check if the QR code data is '2' and it has not been detected before\n",
    "            elif smart == '2' and not num2_detected:\n",
    "                # Send '2' to turn on LED 2\n",
    "                ser.write(b'2')\n",
    "                # Set the flag variable to True\n",
    "                num2_detected = True\n",
    "\n",
    "    # Exit when the 'q' key is pressed\n",
    "    if cv2.waitKey(1) & 0xFF == ord('q'):\n",
    "        break\n",
    "\n",
    "# Release the webcam and close the window\n",
    "cap.release()\n",
    "cv2.destroyAllWindows()\n",
    "\n",
    "# Close serial connection\n",
    "ser.close()"
   ]
  }
 ],
 "metadata": {
  "kernelspec": {
   "display_name": "Python 3 (ipykernel)",
   "language": "python",
   "name": "python3"
  },
  "language_info": {
   "codemirror_mode": {
    "name": "ipython",
    "version": 3
   },
   "file_extension": ".py",
   "mimetype": "text/x-python",
   "name": "python",
   "nbconvert_exporter": "python",
   "pygments_lexer": "ipython3",
   "version": "3.9.12"
  },
  "nbTranslate": {
   "displayLangs": [
    "*"
   ],
   "hotkey": "alt-t",
   "langInMainMenu": true,
   "sourceLang": "en",
   "targetLang": "fr",
   "useGoogleTranslate": true
  }
 },
 "nbformat": 4,
 "nbformat_minor": 5
}
